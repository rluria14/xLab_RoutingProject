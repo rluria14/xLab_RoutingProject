{
 "cells": [
  {
   "cell_type": "code",
   "execution_count": null,
   "metadata": {},
   "outputs": [],
   "source": [
    "import csv\n",
    "import os\n",
    "from datetime import datetime\n",
    "import json\n",
    "import psycopg2\n",
    "import sys\n",
    "sys.path.insert(0,'..')\n",
    "\n",
    "from scripts.database import get_conn_pool, execute, fetch_all\n",
    "from scripts.routing import route_nogo, route_standard"
   ]
  },
  {
   "cell_type": "code",
   "execution_count": null,
   "metadata": {},
   "outputs": [],
   "source": [
    "# connect to postgis database\n",
    "pool = get_conn_pool({\n",
    "    'host': 'localhost',\n",
    "    'port': 5432,\n",
    "    'user': 'postgres',\n",
    "    'password': 'postgres',\n",
    "    'database': 'xlab-routing'\n",
    "})"
   ]
  },
  {
   "cell_type": "code",
   "execution_count": null,
   "metadata": {},
   "outputs": [],
   "source": [
    "# set start and end points\n",
    "\n",
    "# START COORDINATES\n",
    "start_lat = -1.271346\n",
    "start_long = 36.751293\n",
    "\n",
    "# END COORDINATES\n",
    "end_lat = -1.190509\n",
    "end_long = 36.726833"
   ]
  },
  {
   "cell_type": "code",
   "execution_count": null,
   "metadata": {},
   "outputs": [],
   "source": [
    "# set nogo layers\n",
    "nogo_layer_list = ['hgis_admin3', 'hgis_bridges_tunnels']\n",
    "\n",
    "# set nogo layer queries\n",
    "nogo_layer_query_list = [\"hgis_admin3.adm3_name = 'Kitisuru'\", \n",
    "                         \"hgis_bridges_tunnels.objectid = 810 OR hgis_bridges_tunnels.objectid = 811\"]\n",
    "\n",
    "# set nogo point layer buffer distance (default is .0005 in degrees or 50 meters) \n",
    "nogo_point_buffer = .0005\n",
    "\n",
    "# set nogo polyline layer buffer distance (default is .0001 in degrees or 10 meters)\n",
    "nogo_line_buffer = .0001\n",
    "\n",
    "# set nogo cost percentage weight (default is 100)\n",
    "nogo_cost = 100\n"
   ]
  },
  {
   "cell_type": "code",
   "execution_count": null,
   "metadata": {
    "scrolled": false
   },
   "outputs": [],
   "source": [
    "# get route that avoids nogo geometry\n",
    "route = route_nogo(nogo_layer_list, start_long, start_lat, end_long, end_lat, nogo_layer_query_list, \n",
    "                   nogo_point_buffer, nogo_line_buffer, nogo_cost)\n",
    "wkt = route[0]\n",
    "length = route[1]\n"
   ]
  },
  {
   "cell_type": "code",
   "execution_count": null,
   "metadata": {},
   "outputs": [],
   "source": [
    "from ipyleaflet import Map, WKTLayer\n",
    "import re\n",
    "\n",
    "m = Map(center=[start_lat, end_long], zoom=12)\n",
    "wlayer = WKTLayer(\n",
    "    wkt_string=wkt,\n",
    "    hover_style={\"fillColor\": \"red\"},\n",
    ")\n",
    "m.add_layer(wlayer)\n",
    "\n",
    "m"
   ]
  },
  {
   "cell_type": "code",
   "execution_count": null,
   "metadata": {},
   "outputs": [],
   "source": []
  },
  {
   "cell_type": "code",
   "execution_count": null,
   "metadata": {},
   "outputs": [],
   "source": []
  },
  {
   "cell_type": "code",
   "execution_count": null,
   "metadata": {},
   "outputs": [],
   "source": []
  },
  {
   "cell_type": "code",
   "execution_count": null,
   "metadata": {},
   "outputs": [],
   "source": []
  },
  {
   "cell_type": "code",
   "execution_count": null,
   "metadata": {},
   "outputs": [],
   "source": []
  }
 ],
 "metadata": {
  "kernelspec": {
   "display_name": "xLab_RoutingProject",
   "language": "python",
   "name": "xlab_routingproject"
  },
  "language_info": {
   "codemirror_mode": {
    "name": "ipython",
    "version": 3
   },
   "file_extension": ".py",
   "mimetype": "text/x-python",
   "name": "python",
   "nbconvert_exporter": "python",
   "pygments_lexer": "ipython3",
   "version": "3.8.11"
  }
 },
 "nbformat": 4,
 "nbformat_minor": 1
}

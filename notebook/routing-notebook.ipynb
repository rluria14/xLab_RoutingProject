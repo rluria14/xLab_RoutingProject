{
 "cells": [
  {
   "cell_type": "code",
   "execution_count": 2,
   "metadata": {},
   "outputs": [],
   "source": [
    "import csv\n",
    "import os\n",
    "from datetime import datetime\n",
    "import json\n",
    "import psycopg2\n",
    "import sys\n",
    "sys.path.insert(0,'..')\n",
    "\n",
    "from scripts.database import get_conn_pool, execute, fetch_all\n",
    "from scripts.routing import route_nogo, route_standard"
   ]
  },
  {
   "cell_type": "code",
   "execution_count": 3,
   "metadata": {},
   "outputs": [],
   "source": [
    "# connect to postgis database\n",
    "pool = get_conn_pool({\n",
    "    'host': 'localhost',\n",
    "    'port': 5432,\n",
    "    'user': 'postgres',\n",
    "    'password': 'postgres',\n",
    "    'database': 'xlab-routing'\n",
    "})"
   ]
  },
  {
   "cell_type": "code",
   "execution_count": 4,
   "metadata": {},
   "outputs": [],
   "source": [
    "# set start and end points\n",
    "\n",
    "# START\n",
    "start_lat = -1.271346\n",
    "start_long = 36.751293\n",
    "\n",
    "# END\n",
    "end_lat = -1.190509\n",
    "end_long = 36.726833"
   ]
  },
  {
   "cell_type": "code",
   "execution_count": 5,
   "metadata": {},
   "outputs": [],
   "source": [
    "# set nogo layers\n",
    "nogo_layer_list = ['hgis_admin3', 'hgis_bridges_tunnels']\n",
    "\n",
    "# set nogo layer queries\n",
    "nogo_layer_query_list = [\"hgis_admin3.adm3_name = 'Kitisuru'\", \n",
    "                         \"hgis_bridges_tunnels.objectid = 810 OR \\\n",
    "                         hgis_bridges_tunnels.objectid = 811\"]\n",
    "\n",
    "# set nogo point layer buffer distance (in degrees) \n",
    "nogo_point_buffer = .0005  #50 meters\n",
    "\n",
    "# set nogo polyline layer buffer distance (in degrees)\n",
    "nogo_line_buffer = .0001  #10 meters\n"
   ]
  },
  {
   "cell_type": "code",
   "execution_count": null,
   "outputs": [],
   "source": [
    "# get route that avoids nogo geometry\n",
    "route_nogo(nogo_layer_list, start_long, start_lat, end_long, end_lat, nogo_layer_query_list)"
   ],
   "metadata": {
    "collapsed": false,
    "pycharm": {
     "name": "#%%\n"
    }
   }
  },
  {
   "cell_type": "code",
   "execution_count": null,
   "metadata": {},
   "outputs": [
    {
     "name": "stdout",
     "output_type": "stream",
     "text": [
      "NOGO QUERY:  SELECT ST_GEOMFROMEWKT(ST_COLLECT(a.shape)) FROM (SELECT ST_FORCE2D(shape) as shape FROM hgis_admin3 WHERE hgis_admin3.adm3_name = 'Kitisuru' UNION SELECT ST_FORCE2D(ST_BUFFER(shape, 0.0005)) as shape FROM hgis_bridges_tunnels WHERE hgis_bridges_tunnels.objectid = 810 OR                          hgis_bridges_tunnels.objectid = 811) as a\n",
      "10339\n",
      "57155\n"
     ]
    }
   ],
   "source": []
  },
  {
   "cell_type": "code",
   "execution_count": null,
   "metadata": {},
   "outputs": [],
   "source": []
  },
  {
   "cell_type": "code",
   "execution_count": null,
   "metadata": {},
   "outputs": [],
   "source": []
  },
  {
   "cell_type": "code",
   "execution_count": null,
   "metadata": {},
   "outputs": [],
   "source": []
  },
  {
   "cell_type": "code",
   "execution_count": null,
   "metadata": {},
   "outputs": [],
   "source": []
  },
  {
   "cell_type": "code",
   "execution_count": null,
   "metadata": {},
   "outputs": [],
   "source": []
  },
  {
   "cell_type": "code",
   "execution_count": null,
   "metadata": {},
   "outputs": [],
   "source": []
  }
 ],
 "metadata": {
  "kernelspec": {
   "display_name": "Python 3 (ipykernel)",
   "language": "python",
   "name": "python3"
  },
  "language_info": {
   "codemirror_mode": {
    "name": "ipython",
    "version": 3
   },
   "file_extension": ".py",
   "mimetype": "text/x-python",
   "name": "python",
   "nbconvert_exporter": "python",
   "pygments_lexer": "ipython3",
   "version": "3.8.11"
  }
 },
 "nbformat": 4,
 "nbformat_minor": 1
}
{
 "cells": [
  {
   "cell_type": "code",
   "execution_count": 16,
   "metadata": {},
   "outputs": [],
   "source": [
    "import csv\n",
    "import os\n",
    "from datetime import datetime\n",
    "import json\n",
    "import psycopg2\n",
    "import sys\n",
    "from ipyleaflet import Map, WKTLayer\n",
    "import re\n",
    "\n",
    "sys.path.insert(0,'..')\n",
    "\n",
    "from scripts.database import get_conn_pool, execute, fetch_all\n",
    "from scripts.routing import route_nogo, route_standard"
   ]
  },
  {
   "cell_type": "code",
   "execution_count": 17,
   "metadata": {},
   "outputs": [],
   "source": [
    "# connect to postgis database\n",
    "pool = get_conn_pool({\n",
    "    'host': 'localhost',\n",
    "    'port': 5432,\n",
    "    'user': 'postgres',\n",
    "    'password': 'postgres',\n",
    "    'database': 'xlab-routing'\n",
    "})"
   ]
  },
  {
   "cell_type": "code",
   "execution_count": 18,
   "metadata": {},
   "outputs": [],
   "source": [
    "# create/define pgr_nogo_dijkstra_random function in database\n",
    "nogo_function_path = \"../scripts/define_nogo_dijkstra_random.sql\"\n",
    "nogo_fd = open(nogo_function_path, 'r')\n",
    "execute(pool, nogo_fd.read())\n",
    "\n",
    "# create/define pgr_dijkstra_random function in database\n",
    "function_path = \"../scripts/define_dijkstra_random.sql\"\n",
    "fd = open(function_path, 'r')\n",
    "execute(pool, fd.read())"
   ]
  },
  {
   "cell_type": "code",
   "execution_count": 19,
   "metadata": {},
   "outputs": [],
   "source": [
    "# set start and end points\n",
    "\n",
    "# START COORDINATES (enter long, lat)\n",
    "start = [36.78254,-1.33091]\n",
    "start_lat = start[1]\n",
    "start_long = start[0]\n",
    "\n",
    "# END COORDINATES (enter long, lat)\n",
    "end = [36.73858,-1.16696]\n",
    "end_lat = end[1]\n",
    "end_long = end[0]"
   ]
  },
  {
   "cell_type": "code",
   "execution_count": 20,
   "metadata": {},
   "outputs": [],
   "source": [
    "# set nogo layers\n",
    "nogo_layer_list = ['hgis_admin3', 'hgis_bridges_tunnels']\n",
    "\n",
    "# set nogo layer queries (needs to be in same order as nogo_layer_list)\n",
    "nogo_layer_query_list = [\"hgis_admin3.adm3_name = 'Kitisuru'\", \n",
    "                         \"hgis_bridges_tunnels.objectid = 810 OR hgis_bridges_tunnels.objectid = 811\"]\n",
    "\n",
    "# set nogo point layer buffer distance (default is .0005 in degrees or 50 meters) \n",
    "nogo_point_buffer = .0005\n",
    "\n",
    "# set nogo polyline layer buffer distance (default is .0001 in degrees or 10 meters)\n",
    "nogo_line_buffer = .0001\n",
    "\n",
    "# set nogo cost (default is 1000000000)\n",
    "nogo_cost = 1000000000\n",
    "\n",
    "# set noise for randomness (default is 0 (no noise) which gives original cost and doesn't randomize)\n",
    "noise = .75\n"
   ]
  },
  {
   "cell_type": "code",
   "execution_count": 21,
   "metadata": {
    "scrolled": false
   },
   "outputs": [
    {
     "name": "stdout",
     "output_type": "stream",
     "text": [
      "NOGO ROUTE\n",
      "\n",
      "NOGO QUERY:  SELECT ST_GEOMFROMEWKT(ST_COLLECT(a.shape)) FROM (SELECT ST_FORCE2D(shape) as shape FROM hgis_admin3 WHERE hgis_admin3.adm3_name = 'Kitisuru' UNION SELECT ST_FORCE2D(ST_BUFFER(shape, 0.0005)) as shape FROM hgis_bridges_tunnels WHERE hgis_bridges_tunnels.objectid = 810 OR hgis_bridges_tunnels.objectid = 811) as a\n",
      "START NODE:  8543\n",
      "END NODE:  7889\n",
      "LENGTH:  30463.476544109373\n",
      "\n",
      "STANDARD ROUTE\n",
      "\n",
      "START NODE:  8543\n",
      "END NODE:  7889\n",
      "LENGTH:  27197.101958558032\n"
     ]
    }
   ],
   "source": [
    "# get nogo route + cost randomness\n",
    "try:\n",
    "    print(\"NOGO ROUTE\")\n",
    "    print(\"\")\n",
    "    route_nogo = route_nogo(nogo_layer_list, start_long, start_lat, end_long, end_lat, nogo_layer_query_list, nogo_point_buffer, nogo_line_buffer, nogo_cost, noise)\n",
    "    nogo_wkt = route_nogo[0]\n",
    "    nogo_length = route_nogo[1]\n",
    "except:\n",
    "    pass\n",
    "\n",
    "# get standard route + cost randomness\n",
    "try:\n",
    "    print(\"\")\n",
    "    print(\"STANDARD ROUTE\")\n",
    "    print(\"\")\n",
    "    route_standard = route_standard(start_long, start_lat, end_long, end_lat, noise)\n",
    "    wkt = route_standard[0]\n",
    "    length = route_standard[1]\n",
    "except:\n",
    "    pass"
   ]
  },
  {
   "cell_type": "code",
   "execution_count": 22,
   "metadata": {},
   "outputs": [
    {
     "data": {
      "application/vnd.jupyter.widget-view+json": {
       "model_id": "0e3153972a0848aaa9e08c8cf0bc4ec5",
       "version_major": 2,
       "version_minor": 0
      },
      "text/plain": [
       "Map(center=[-1.33091, 36.73858], controls=(ZoomControl(options=['position', 'zoom_in_text', 'zoom_in_title', '…"
      ]
     },
     "metadata": {},
     "output_type": "display_data"
    }
   ],
   "source": [
    "# Display route\n",
    "\n",
    "# center map\n",
    "m = Map(center=[start_lat, end_long], zoom=10)\n",
    "\n",
    "# nogo layer \n",
    "nogo_wlayer = WKTLayer(\n",
    "    wkt_string=nogo_wkt,\n",
    "    hover_style={\"color\": \"red\"},\n",
    "    style={\"color\": \"blue\"}\n",
    ")\n",
    "m.add_layer(nogo_wlayer)\n",
    "\n",
    "# standard layer\n",
    "wlayer = WKTLayer(\n",
    "    wkt_string=wkt,\n",
    "    hover_style={\"color\": \"pink\"},\n",
    "    style={\"color\": \"green\"}\n",
    ")\n",
    "m.add_layer(wlayer)\n",
    "\n",
    "m"
   ]
  },
  {
   "cell_type": "code",
   "execution_count": null,
   "metadata": {},
   "outputs": [],
   "source": []
  },
  {
   "cell_type": "code",
   "execution_count": null,
   "metadata": {},
   "outputs": [],
   "source": []
  },
  {
   "cell_type": "code",
   "execution_count": null,
   "metadata": {},
   "outputs": [],
   "source": []
  },
  {
   "cell_type": "code",
   "execution_count": null,
   "metadata": {},
   "outputs": [],
   "source": []
  },
  {
   "cell_type": "code",
   "execution_count": null,
   "metadata": {},
   "outputs": [],
   "source": []
  }
 ],
 "metadata": {
  "kernelspec": {
   "display_name": "xLab_RoutingProject",
   "language": "python",
   "name": "xlab_routingproject"
  },
  "language_info": {
   "codemirror_mode": {
    "name": "ipython",
    "version": 3
   },
   "file_extension": ".py",
   "mimetype": "text/x-python",
   "name": "python",
   "nbconvert_exporter": "python",
   "pygments_lexer": "ipython3",
   "version": "3.9.7"
  }
 },
 "nbformat": 4,
 "nbformat_minor": 1
}

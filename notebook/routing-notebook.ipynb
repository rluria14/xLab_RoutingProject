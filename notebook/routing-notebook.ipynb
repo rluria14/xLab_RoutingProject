{
 "cells": [
  {
   "cell_type": "code",
   "execution_count": 8,
   "metadata": {},
   "outputs": [],
   "source": [
    "import csv\n",
    "import os\n",
    "from datetime import datetime\n",
    "import json\n",
    "import psycopg2\n",
    "import sys\n",
    "from ipyleaflet import Map, WKTLayer\n",
    "import re\n",
    "\n",
    "sys.path.insert(0,'..')\n",
    "\n",
    "from scripts.database import get_conn_pool, execute, fetch_all\n",
    "from scripts.routing import route_nogo, route_standard"
   ]
  },
  {
   "cell_type": "code",
   "execution_count": 9,
   "metadata": {},
   "outputs": [],
   "source": [
    "# connect to postgis database\n",
    "pool = get_conn_pool({\n",
    "    'host': 'localhost',\n",
    "    'port': 5432,\n",
    "    'user': 'postgres',\n",
    "    'password': 'postgres',\n",
    "    'database': 'xlab-routing'\n",
    "})"
   ]
  },
  {
   "cell_type": "code",
   "execution_count": 10,
   "metadata": {},
   "outputs": [],
   "source": [
    "# create/define pgr_nogo_dijkstra_random function in database\n",
    "nogo_function_path = \"../scripts/define_nogo_dijkstra_random.sql\"\n",
    "nogo_fd = open(nogo_function_path, 'r')\n",
    "execute(pool, nogo_fd.read())\n",
    "\n",
    "# create/define pgr_dijkstra_random function in database\n",
    "function_path = \"../scripts/define_dijkstra_random.sql\"\n",
    "fd = open(function_path, 'r')\n",
    "execute(pool, fd.read())"
   ]
  },
  {
   "cell_type": "code",
   "execution_count": 11,
   "metadata": {},
   "outputs": [],
   "source": [
    "# set start and end points\n",
    "\n",
    "# START COORDINATES (enter long, lat)\n",
    "start = [36.78254,-1.33091]\n",
    "start_lat = start[1]\n",
    "start_long = start[0]\n",
    "\n",
    "# END COORDINATES (enter long, lat)\n",
    "end = [36.73858,-1.16696]\n",
    "end_lat = end[1]\n",
    "end_long = end[0]"
   ]
  },
  {
   "cell_type": "code",
   "execution_count": 12,
   "metadata": {},
   "outputs": [],
   "source": [
    "# set parameters\n",
    "\n",
    "# nogo layers\n",
    "nogo_layer_list = ['hgis_admin3', 'hgis_bridges_tunnels']\n",
    "\n",
    "# nogo layer queries (needs to be in same order as nogo_layer_list)\n",
    "nogo_layer_query_list = [\"hgis_admin3.adm3_name = 'Kitisuru'\", \n",
    "                         \"hgis_bridges_tunnels.objectid = 810 OR hgis_bridges_tunnels.objectid = 811\"]\n",
    "\n",
    "# nogo point layer buffer distance (default is .0005 in degrees or 50 meters) \n",
    "nogo_point_buffer = .0005\n",
    "\n",
    "# nogo polyline layer buffer distance (default is .0001 in degrees or 10 meters)\n",
    "nogo_line_buffer = .0001\n",
    "\n",
    "# nogo cost (default is 1000000000)\n",
    "nogo_cost = 1000000000\n",
    "\n",
    "# noise for randomness (default is 0 (no noise) which gives original cost and doesn't randomize)\n",
    "noise = .75\n"
   ]
  },
  {
   "cell_type": "code",
   "execution_count": 13,
   "metadata": {
    "scrolled": false
   },
   "outputs": [
    {
     "name": "stdout",
     "output_type": "stream",
     "text": [
      "NOGO ROUTE\n",
      "\n",
      "NOGO QUERY:  SELECT ST_GEOMFROMEWKT(ST_COLLECT(a.shape)) FROM (SELECT ST_FORCE2D(shape) as shape FROM hgis_admin3 WHERE hgis_admin3.adm3_name = 'Kitisuru' UNION SELECT ST_FORCE2D(ST_BUFFER(shape, 0.0005)) as shape FROM hgis_bridges_tunnels WHERE hgis_bridges_tunnels.objectid = 810 OR hgis_bridges_tunnels.objectid = 811) as a\n",
      "START NODE:  8543\n",
      "END NODE:  7889\n",
      "LENGTH:  32030.361028610798\n",
      "32030.361028610798\n",
      "\n",
      "STANDARD ROUTE\n",
      "\n",
      "START NODE:  8543\n",
      "END NODE:  7889\n",
      "LENGTH:  27779.248663035185\n"
     ]
    }
   ],
   "source": [
    "# get nogo route + cost randomness\n",
    "try:\n",
    "    print(\"NOGO ROUTE\")\n",
    "    print(\"\")\n",
    "    route_nogo = route_nogo(nogo_layer_list, start_long, start_lat, end_long, end_lat, nogo_layer_query_list, nogo_point_buffer, nogo_line_buffer, nogo_cost, noise)\n",
    "    nogo_wkt = route_nogo[0]\n",
    "    nogo_length = route_nogo[1]\n",
    "except:\n",
    "    pass\n",
    "\n",
    "# get standard route + cost randomness\n",
    "try:\n",
    "    print(\"\")\n",
    "    print(\"STANDARD ROUTE\")\n",
    "    print(\"\")\n",
    "    route_standard = route_standard(start_long, start_lat, end_long, end_lat, noise)\n",
    "    wkt = route_standard[0]\n",
    "    length = route_standard[1]\n",
    "except:\n",
    "    pass"
   ]
  },
  {
   "cell_type": "code",
   "execution_count": 7,
   "metadata": {},
   "outputs": [
    {
     "ename": "NameError",
     "evalue": "name 'nogo_wkt' is not defined",
     "output_type": "error",
     "traceback": [
      "\u001b[0;31m---------------------------------------------------------------------------\u001b[0m",
      "\u001b[0;31mNameError\u001b[0m                                 Traceback (most recent call last)",
      "\u001b[0;32m/var/folders/fp/gd4f02gd367b8419w8c27ljr0000gp/T/ipykernel_55098/1304010261.py\u001b[0m in \u001b[0;36m<module>\u001b[0;34m\u001b[0m\n\u001b[1;32m      6\u001b[0m \u001b[0;31m# nogo layer\u001b[0m\u001b[0;34m\u001b[0m\u001b[0;34m\u001b[0m\u001b[0m\n\u001b[1;32m      7\u001b[0m nogo_wlayer = WKTLayer(\n\u001b[0;32m----> 8\u001b[0;31m     \u001b[0mwkt_string\u001b[0m\u001b[0;34m=\u001b[0m\u001b[0mnogo_wkt\u001b[0m\u001b[0;34m,\u001b[0m\u001b[0;34m\u001b[0m\u001b[0;34m\u001b[0m\u001b[0m\n\u001b[0m\u001b[1;32m      9\u001b[0m     \u001b[0mhover_style\u001b[0m\u001b[0;34m=\u001b[0m\u001b[0;34m{\u001b[0m\u001b[0;34m\"color\"\u001b[0m\u001b[0;34m:\u001b[0m \u001b[0;34m\"red\"\u001b[0m\u001b[0;34m}\u001b[0m\u001b[0;34m,\u001b[0m\u001b[0;34m\u001b[0m\u001b[0;34m\u001b[0m\u001b[0m\n\u001b[1;32m     10\u001b[0m     \u001b[0mstyle\u001b[0m\u001b[0;34m=\u001b[0m\u001b[0;34m{\u001b[0m\u001b[0;34m\"color\"\u001b[0m\u001b[0;34m:\u001b[0m \u001b[0;34m\"blue\"\u001b[0m\u001b[0;34m}\u001b[0m\u001b[0;34m\u001b[0m\u001b[0;34m\u001b[0m\u001b[0m\n",
      "\u001b[0;31mNameError\u001b[0m: name 'nogo_wkt' is not defined"
     ]
    }
   ],
   "source": [
    "# Display route\n",
    "\n",
    "# center map\n",
    "m = Map(center=[start_lat, end_long], zoom=10)\n",
    "\n",
    "# nogo layer \n",
    "nogo_wlayer = WKTLayer(\n",
    "    wkt_string=nogo_wkt,\n",
    "    hover_style={\"color\": \"red\"},\n",
    "    style={\"color\": \"blue\"}\n",
    ")\n",
    "m.add_layer(nogo_wlayer)\n",
    "\n",
    "# standard layer\n",
    "wlayer = WKTLayer(\n",
    "    wkt_string=wkt,\n",
    "    hover_style={\"color\": \"pink\"},\n",
    "    style={\"color\": \"green\"}\n",
    ")\n",
    "m.add_layer(wlayer)\n",
    "\n",
    "m"
   ]
  },
  {
   "cell_type": "code",
   "execution_count": null,
   "metadata": {},
   "outputs": [],
   "source": []
  },
  {
   "cell_type": "code",
   "execution_count": null,
   "metadata": {},
   "outputs": [],
   "source": []
  },
  {
   "cell_type": "code",
   "execution_count": null,
   "metadata": {},
   "outputs": [],
   "source": []
  },
  {
   "cell_type": "code",
   "execution_count": null,
   "metadata": {},
   "outputs": [],
   "source": []
  },
  {
   "cell_type": "code",
   "execution_count": null,
   "metadata": {},
   "outputs": [],
   "source": []
  }
 ],
 "metadata": {
  "kernelspec": {
   "display_name": "xLab_RoutingProject",
   "language": "python",
   "name": "xlab_routingproject"
  },
  "language_info": {
   "codemirror_mode": {
    "name": "ipython",
    "version": 3
   },
   "file_extension": ".py",
   "mimetype": "text/x-python",
   "name": "python",
   "nbconvert_exporter": "python",
   "pygments_lexer": "ipython3",
   "version": "3.9.7"
  }
 },
 "nbformat": 4,
 "nbformat_minor": 1
}
